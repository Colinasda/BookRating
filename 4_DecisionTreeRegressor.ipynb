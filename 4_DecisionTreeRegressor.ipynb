{
 "cells": [
  {
   "cell_type": "code",
   "execution_count": 1,
   "metadata": {},
   "outputs": [],
   "source": [
    "# Import the required libraries and read the data sets\n",
    "import pandas as pd\n",
    "data = pd.read_csv(\"/Users/zhaozihao/Desktop/Dataset_book/Train_new.csv\")"
   ]
  },
  {
   "cell_type": "code",
   "execution_count": 2,
   "metadata": {},
   "outputs": [
    {
     "data": {
      "text/html": [
       "<div>\n",
       "<style scoped>\n",
       "    .dataframe tbody tr th:only-of-type {\n",
       "        vertical-align: middle;\n",
       "    }\n",
       "\n",
       "    .dataframe tbody tr th {\n",
       "        vertical-align: top;\n",
       "    }\n",
       "\n",
       "    .dataframe thead th {\n",
       "        text-align: right;\n",
       "    }\n",
       "</style>\n",
       "<table border=\"1\" class=\"dataframe\">\n",
       "  <thead>\n",
       "    <tr style=\"text-align: right;\">\n",
       "      <th></th>\n",
       "      <th>bookID</th>\n",
       "      <th>title</th>\n",
       "      <th>authors</th>\n",
       "      <th>average_rating</th>\n",
       "      <th>isbn</th>\n",
       "      <th>isbn13</th>\n",
       "      <th>language_code</th>\n",
       "      <th>num_pages</th>\n",
       "      <th>ratings_count</th>\n",
       "      <th>text_reviews_count</th>\n",
       "      <th>year</th>\n",
       "      <th>publisher</th>\n",
       "    </tr>\n",
       "  </thead>\n",
       "  <tbody>\n",
       "    <tr>\n",
       "      <th>0</th>\n",
       "      <td>8253</td>\n",
       "      <td>Little Town on the Prairie  (Little House  #7)</td>\n",
       "      <td>Laura Ingalls Wilder/Garth Williams</td>\n",
       "      <td>4.19</td>\n",
       "      <td>60885432</td>\n",
       "      <td>9.780000e+12</td>\n",
       "      <td>eng</td>\n",
       "      <td>374</td>\n",
       "      <td>71853</td>\n",
       "      <td>646</td>\n",
       "      <td>2007</td>\n",
       "      <td>HarperTrophy</td>\n",
       "    </tr>\n",
       "    <tr>\n",
       "      <th>1</th>\n",
       "      <td>11101</td>\n",
       "      <td>First Comes Love (Hot Water  California #1)</td>\n",
       "      <td>Christie Ridgway</td>\n",
       "      <td>3.81</td>\n",
       "      <td>380818957</td>\n",
       "      <td>9.780000e+12</td>\n",
       "      <td>en-US</td>\n",
       "      <td>384</td>\n",
       "      <td>1051</td>\n",
       "      <td>47</td>\n",
       "      <td>2002</td>\n",
       "      <td>Avon Books</td>\n",
       "    </tr>\n",
       "    <tr>\n",
       "      <th>2</th>\n",
       "      <td>28193</td>\n",
       "      <td>When Santa Fell to Earth</td>\n",
       "      <td>Cornelia Funke/Paul   Howard/Oliver G. Latsch</td>\n",
       "      <td>3.76</td>\n",
       "      <td>043978204X</td>\n",
       "      <td>9.780000e+12</td>\n",
       "      <td>eng</td>\n",
       "      <td>167</td>\n",
       "      <td>1840</td>\n",
       "      <td>245</td>\n",
       "      <td>2006</td>\n",
       "      <td>Chicken House / Scholastic</td>\n",
       "    </tr>\n",
       "    <tr>\n",
       "      <th>3</th>\n",
       "      <td>25047</td>\n",
       "      <td>The Case of the Stinky Science Project (Jigsaw...</td>\n",
       "      <td>James Preller/John Speirs/James Preller</td>\n",
       "      <td>3.83</td>\n",
       "      <td>439114284</td>\n",
       "      <td>9.780000e+12</td>\n",
       "      <td>en-US</td>\n",
       "      <td>80</td>\n",
       "      <td>162</td>\n",
       "      <td>11</td>\n",
       "      <td>2001</td>\n",
       "      <td>Scholastic Paperbacks</td>\n",
       "    </tr>\n",
       "    <tr>\n",
       "      <th>4</th>\n",
       "      <td>17800</td>\n",
       "      <td>Dance Dance Dance</td>\n",
       "      <td>Haruki Murakami</td>\n",
       "      <td>4.04</td>\n",
       "      <td>99448769</td>\n",
       "      <td>9.780000e+12</td>\n",
       "      <td>eng</td>\n",
       "      <td>393</td>\n",
       "      <td>50169</td>\n",
       "      <td>2117</td>\n",
       "      <td>2002</td>\n",
       "      <td>Vintage</td>\n",
       "    </tr>\n",
       "  </tbody>\n",
       "</table>\n",
       "</div>"
      ],
      "text/plain": [
       "   bookID                                              title  \\\n",
       "0    8253     Little Town on the Prairie  (Little House  #7)   \n",
       "1   11101        First Comes Love (Hot Water  California #1)   \n",
       "2   28193                           When Santa Fell to Earth   \n",
       "3   25047  The Case of the Stinky Science Project (Jigsaw...   \n",
       "4   17800                                  Dance Dance Dance   \n",
       "\n",
       "                                         authors  average_rating        isbn  \\\n",
       "0            Laura Ingalls Wilder/Garth Williams            4.19    60885432   \n",
       "1                               Christie Ridgway            3.81   380818957   \n",
       "2  Cornelia Funke/Paul   Howard/Oliver G. Latsch            3.76  043978204X   \n",
       "3        James Preller/John Speirs/James Preller            3.83   439114284   \n",
       "4                                Haruki Murakami            4.04    99448769   \n",
       "\n",
       "         isbn13 language_code  num_pages  ratings_count  text_reviews_count  \\\n",
       "0  9.780000e+12           eng        374          71853                 646   \n",
       "1  9.780000e+12         en-US        384           1051                  47   \n",
       "2  9.780000e+12           eng        167           1840                 245   \n",
       "3  9.780000e+12         en-US         80            162                  11   \n",
       "4  9.780000e+12           eng        393          50169                2117   \n",
       "\n",
       "   year                   publisher  \n",
       "0  2007                HarperTrophy  \n",
       "1  2002                  Avon Books  \n",
       "2  2006  Chicken House / Scholastic  \n",
       "3  2001       Scholastic Paperbacks  \n",
       "4  2002                     Vintage  "
      ]
     },
     "execution_count": 2,
     "metadata": {},
     "output_type": "execute_result"
    }
   ],
   "source": [
    "data.head()"
   ]
  },
  {
   "cell_type": "code",
   "execution_count": 3,
   "metadata": {},
   "outputs": [],
   "source": [
    "# Feature selection, specific reasons for the selection in the above section\n",
    "feature = data[[\"num_pages\",\"ratings_count\",\"text_reviews_count\",\"year\"]]\n",
    "target = data[[\"average_rating\"]]"
   ]
  },
  {
   "cell_type": "code",
   "execution_count": 4,
   "metadata": {},
   "outputs": [],
   "source": [
    "# Divide the training set and the test set\n",
    "from sklearn.model_selection import train_test_split\n",
    "Xtrain,Xtest,Ytrain,Ytest = train_test_split(feature,target,test_size = 0.1)"
   ]
  },
  {
   "cell_type": "code",
   "execution_count": 5,
   "metadata": {},
   "outputs": [],
   "source": [
    "# import relevant libraries\n",
    "from sklearn.tree import DecisionTreeRegressor\n",
    "import sklearn.metrics as metrics"
   ]
  },
  {
   "cell_type": "code",
   "execution_count": 6,
   "metadata": {},
   "outputs": [
    {
     "data": {
      "text/plain": [
       "0.191120025"
      ]
     },
     "execution_count": 6,
     "metadata": {},
     "output_type": "execute_result"
    }
   ],
   "source": [
    "# Instantiate the decision tree regressor\n",
    "regressor = DecisionTreeRegressor(random_state=0)\n",
    "# train the model\n",
    "regresor = regressor.fit(Xtrain,Ytrain)\n",
    "# use mean_squared_error to judge the model regressor\n",
    "predict_y=regressor.predict(Xtest)\n",
    "metrics.mean_squared_error(predict_y,Ytest)"
   ]
  },
  {
   "cell_type": "code",
   "execution_count": 7,
   "metadata": {},
   "outputs": [
    {
     "data": {
      "text/plain": [
       "0.09171306118083257"
      ]
     },
     "execution_count": 7,
     "metadata": {},
     "output_type": "execute_result"
    }
   ],
   "source": [
    "# max_depth=7，instantiate the decision tree regressor\n",
    "regressor_depth7 = DecisionTreeRegressor(max_depth=7,random_state=0)\n",
    "regressor_depth7 = regressor_depth7.fit(Xtrain,Ytrain)\n",
    "# use mean_squared_error to judge the model regressor\n",
    "predict_y7=regressor_depth7.predict(Xtest)\n",
    "metrics.mean_squared_error(predict_y7,Ytest)"
   ]
  },
  {
   "cell_type": "code",
   "execution_count": 8,
   "metadata": {},
   "outputs": [
    {
     "data": {
      "text/plain": [
       "0.11360858583871758"
      ]
     },
     "execution_count": 8,
     "metadata": {},
     "output_type": "execute_result"
    }
   ],
   "source": [
    "# max_depth=10，instantiate the decision tree regressor\n",
    "regressor_depth10 = DecisionTreeRegressor(max_depth=10,random_state=0)\n",
    "regressor_depth10 = regressor_depth10.fit(Xtrain,Ytrain)\n",
    "# use mean_squared_error to judge the model regressor\n",
    "predict_y10=regressor_depth10.predict(Xtest)\n",
    "metrics.mean_squared_error(predict_y10,Ytest)"
   ]
  },
  {
   "cell_type": "code",
   "execution_count": 9,
   "metadata": {},
   "outputs": [
    {
     "name": "stdout",
     "output_type": "stream",
     "text": [
      "0.08131304554136404 3\n"
     ]
    },
    {
     "data": {
      "image/png": "[encoded data removed]",
      "text/plain": [
       "<Figure size 432x288 with 1 Axes>"
      ]
     },
     "metadata": {
      "needs_background": "light"
     },
     "output_type": "display_data"
    }
   ],
   "source": [
    "import matplotlib.pyplot as plt\n",
    "# Create an empty list to hold the MSE under different max_depth\n",
    "test = []\n",
    "for i in range(50):\n",
    "    regr = DecisionTreeRegressor(max_depth=i+1,random_state=0)\n",
    "    regr = regr.fit(Xtrain,Ytrain)\n",
    "    predict_y=regr.predict(Xtest)\n",
    "    mse = metrics.mean_squared_error(predict_y,Ytest)\n",
    "    test.append(mse)  \n",
    "print(min(test),test.index(min(test))+1)\n",
    "plt.plot(range(1,51),test,color='red',label='max_depth')\n",
    "plt.legend()\n",
    "plt.show()"
   ]
  },
  {
   "cell_type": "code",
   "execution_count": 10,
   "metadata": {},
   "outputs": [
    {
     "name": "stdout",
     "output_type": "stream",
     "text": [
      "0.07761226553544713 15\n"
     ]
    },
    {
     "data": {
      "image/png": "[encoded data removed]",
      "text/plain": [
       "<Figure size 432x288 with 1 Axes>"
      ]
     },
     "metadata": {
      "needs_background": "light"
     },
     "output_type": "display_data"
    }
   ],
   "source": [
    "import matplotlib.pyplot as plt\n",
    "# Create an empty list to hold the MSE under different min_samples_leaf\n",
    "test = []\n",
    "for i in range(50):\n",
    "    regr = DecisionTreeRegressor(max_depth=3,min_samples_leaf=i+1,random_state=0)\n",
    "    regr = regr.fit(Xtrain,Ytrain)\n",
    "    predict_y=regr.predict(Xtest)\n",
    "    mse = metrics.mean_squared_error(predict_y,Ytest)\n",
    "    test.append(mse)   \n",
    "print(min(test),test.index(min(test))+1)\n",
    "plt.plot(range(1,51),test,color='red',label='min_samples_leaf')\n",
    "plt.legend()\n",
    "plt.show()"
   ]
  },
  {
   "cell_type": "code",
   "execution_count": 11,
   "metadata": {},
   "outputs": [
    {
     "name": "stdout",
     "output_type": "stream",
     "text": [
      "0.07761226553544713 2\n"
     ]
    },
    {
     "data": {
      "image/png": "[encoded data removed]",
      "text/plain": [
       "<Figure size 432x288 with 1 Axes>"
      ]
     },
     "metadata": {
      "needs_background": "light"
     },
     "output_type": "display_data"
    }
   ],
   "source": [
    "import matplotlib.pyplot as plt\n",
    "# Create an empty list to hold the MSE under different min_samples_split\n",
    "test = []\n",
    "for i in range(50):\n",
    "    regr = DecisionTreeRegressor(max_depth=3,min_samples_leaf=15,\n",
    "                                 min_samples_split=i+2,random_state=0)\n",
    "    regr = regr.fit(Xtrain,Ytrain)\n",
    "    predict_y=regr.predict(Xtest)\n",
    "    mse = metrics.mean_squared_error(predict_y,Ytest)\n",
    "    test.append(mse)   \n",
    "print(min(test),test.index(min(test))+2)\n",
    "plt.plot(range(1,51),test,color='red',label='min_samples_split')\n",
    "plt.legend()\n",
    "plt.show()"
   ]
  },
  {
   "cell_type": "code",
   "execution_count": 12,
   "metadata": {},
   "outputs": [
    {
     "data": {
      "text/plain": [
       "0.07761226553544713"
      ]
     },
     "execution_count": 12,
     "metadata": {},
     "output_type": "execute_result"
    }
   ],
   "source": [
    "# Test optimization results\n",
    "regressor_test = DecisionTreeRegressor(max_depth=3,\n",
    "                                       random_state=0,\n",
    "                                       min_samples_leaf=15,\n",
    "                                       min_samples_split=2\n",
    "                                      )\n",
    "regressor_test = regressor_test.fit(Xtrain,Ytrain)\n",
    "# use mean_squared_error to judge the model regressor_test\n",
    "predict_y_test=regressor_test.predict(Xtest)\n",
    "metrics.mean_squared_error(predict_y_test,Ytest)"
   ]
  },
  {
   "cell_type": "code",
   "execution_count": 14,
   "metadata": {},
   "outputs": [],
   "source": [
    "# import test dataset\n",
    "# Note:Test_new is different from Test_data.Test_data is original dataset,Test_new is a dataset with feature'year'\n",
    "import pandas as pd\n",
    "Test_data = pd.read_csv(\"/Users/zhaozihao/Desktop/Dataset_book/Test_new.csv\")"
   ]
  },
  {
   "cell_type": "code",
   "execution_count": 15,
   "metadata": {},
   "outputs": [],
   "source": [
    "# fetures selection\n",
    "feature_test = Test_data[[\"num_pages\",\"ratings_count\",\"text_reviews_count\",\"year\"]]\n",
    "target_test = Test_data[[\"average_rating\"]]"
   ]
  },
  {
   "cell_type": "code",
   "execution_count": 16,
   "metadata": {},
   "outputs": [],
   "source": [
    "regressor_test = DecisionTreeRegressor(max_depth=3,\n",
    "                                       random_state=0,\n",
    "                                       min_samples_leaf=15,\n",
    "                                       min_samples_split=2\n",
    "                                      )\n",
    "regressor_test = regressor_test.fit(Xtrain,Ytrain)\n",
    "# predict\n",
    "predict_y_test_data=regressor_test.predict(feature_test)"
   ]
  },
  {
   "cell_type": "code",
   "execution_count": 17,
   "metadata": {},
   "outputs": [
    {
     "data": {
      "text/plain": [
       "array([4.05983728, 3.9122389 , 3.9122389 , 3.96930864, 3.9122389 ,\n",
       "       3.9122389 , 3.9122389 , 3.9122389 , 3.9122389 , 3.9122389 ,\n",
       "       3.9122389 , 3.9122389 , 3.9122389 , 3.9122389 , 3.96930864,\n",
       "       3.96930864, 3.9122389 , 3.9122389 , 3.9122389 , 3.9122389 ,\n",
       "       3.96930864, 4.05983728, 4.05983728, 3.9122389 , 3.9122389 ,\n",
       "       4.05983728, 3.9122389 , 3.96930864, 3.9122389 , 3.9122389 ,\n",
       "       3.9122389 , 3.9122389 , 4.05983728, 3.96930864, 3.9122389 ,\n",
       "       3.96930864, 3.9122389 , 4.05983728, 3.9122389 , 3.9122389 ,\n",
       "       3.9122389 , 3.9122389 , 3.9122389 , 3.9122389 , 3.96930864,\n",
       "       3.96930864, 3.9122389 , 3.9122389 , 3.9122389 , 4.05983728,\n",
       "       3.96930864, 4.05983728, 3.9122389 , 3.96930864, 3.9122389 ,\n",
       "       3.9122389 , 3.9122389 , 3.9122389 , 3.9122389 , 3.9122389 ,\n",
       "       3.9122389 , 3.9122389 , 3.9122389 , 3.9122389 , 3.9122389 ,\n",
       "       3.96930864, 3.9122389 , 3.96930864, 3.96930864, 3.96930864,\n",
       "       3.96930864, 3.9122389 , 4.2327907 , 3.9122389 , 3.9122389 ,\n",
       "       3.9122389 , 3.9122389 , 3.9122389 , 3.9122389 , 3.9122389 ,\n",
       "       3.9122389 , 3.9122389 , 3.9122389 , 3.9122389 , 3.9122389 ,\n",
       "       3.9122389 , 4.2327907 , 3.96930864, 3.9122389 , 3.9122389 ,\n",
       "       3.9122389 , 3.9122389 , 4.05983728, 3.9122389 , 4.05983728,\n",
       "       3.9122389 , 4.05983728, 3.9122389 , 3.9122389 , 3.9122389 ,\n",
       "       4.05983728, 3.9122389 , 3.265     , 3.9122389 , 3.9122389 ,\n",
       "       3.9122389 , 3.9122389 , 3.9122389 , 4.05983728, 3.96930864,\n",
       "       3.9122389 , 3.9122389 , 4.2327907 , 4.05983728, 3.9122389 ,\n",
       "       3.9122389 , 3.9122389 , 3.9122389 , 2.065     , 3.9122389 ,\n",
       "       3.9122389 , 3.9122389 , 3.9122389 , 3.96930864, 3.9122389 ,\n",
       "       4.05983728, 3.96930864, 3.9122389 , 3.96930864, 3.96930864,\n",
       "       3.9122389 , 3.9122389 , 3.9122389 , 3.9122389 , 3.9122389 ,\n",
       "       3.9122389 , 3.9122389 , 3.9122389 , 3.96930864, 3.9122389 ,\n",
       "       3.96930864, 3.9122389 , 3.9122389 , 4.05983728, 3.9122389 ,\n",
       "       3.9122389 , 3.9122389 , 3.9122389 , 3.9122389 , 3.9122389 ,\n",
       "       3.9122389 , 3.9122389 , 3.9122389 , 3.9122389 , 3.9122389 ,\n",
       "       3.96930864, 3.96930864, 3.9122389 , 3.9122389 , 3.9122389 ,\n",
       "       3.9122389 , 3.9122389 , 3.9122389 , 4.05983728, 3.9122389 ,\n",
       "       3.9122389 , 3.9122389 , 3.9122389 , 3.9122389 , 3.9122389 ,\n",
       "       3.9122389 , 3.9122389 , 3.9122389 , 3.9122389 , 3.9122389 ,\n",
       "       3.96930864, 4.05983728, 3.9122389 , 3.96930864, 3.9122389 ,\n",
       "       3.96930864, 3.9122389 , 3.96930864, 3.96930864, 3.96930864,\n",
       "       3.9122389 , 4.05983728, 3.9122389 , 3.9122389 , 4.2327907 ,\n",
       "       3.9122389 , 3.9122389 , 3.96930864, 3.9122389 , 4.05983728,\n",
       "       3.9122389 , 3.9122389 , 3.9122389 , 3.9122389 , 3.9122389 ,\n",
       "       3.9122389 , 3.9122389 , 3.9122389 , 3.96930864, 3.96930864,\n",
       "       3.9122389 , 3.9122389 , 3.9122389 , 3.9122389 , 4.05983728,\n",
       "       3.96930864, 4.05983728, 3.9122389 , 4.05983728, 3.9122389 ,\n",
       "       3.9122389 , 3.9122389 , 3.9122389 , 3.96930864, 3.9122389 ,\n",
       "       3.96930864, 3.96930864, 3.9122389 , 3.96930864, 3.9122389 ,\n",
       "       4.2327907 , 4.05983728, 4.05983728, 3.9122389 , 3.9122389 ,\n",
       "       3.9122389 , 3.9122389 , 3.9122389 , 3.9122389 , 3.9122389 ,\n",
       "       3.9122389 , 3.9122389 , 4.2327907 , 3.9122389 , 3.9122389 ,\n",
       "       4.05983728, 3.9122389 , 3.96930864, 3.9122389 , 3.9122389 ,\n",
       "       3.9122389 , 3.9122389 , 3.9122389 , 3.9122389 , 3.96930864,\n",
       "       3.9122389 , 3.96930864, 4.05983728, 3.96930864, 3.9122389 ,\n",
       "       3.9122389 , 3.9122389 , 3.96930864, 3.9122389 , 3.9122389 ,\n",
       "       3.96930864, 3.9122389 , 3.9122389 , 3.9122389 , 4.05983728,\n",
       "       3.9122389 , 3.96930864, 3.96930864, 3.9122389 , 3.9122389 ,\n",
       "       3.96930864, 3.9122389 , 3.9122389 , 3.9122389 , 3.96930864,\n",
       "       3.9122389 , 3.9122389 , 3.9122389 , 3.96930864, 3.9122389 ,\n",
       "       3.9122389 , 3.9122389 , 3.9122389 , 3.9122389 , 3.9122389 ,\n",
       "       3.9122389 , 3.9122389 , 3.9122389 , 3.96930864, 3.96930864,\n",
       "       4.2327907 , 3.96930864, 3.9122389 , 3.9122389 , 3.9122389 ,\n",
       "       3.9122389 , 3.9122389 , 3.9122389 , 3.96930864, 4.2327907 ,\n",
       "       3.9122389 , 3.96930864, 3.9122389 , 3.9122389 , 3.9122389 ,\n",
       "       3.9122389 , 3.96930864, 3.9122389 , 3.96930864, 3.9122389 ,\n",
       "       3.9122389 , 3.9122389 , 4.05983728, 3.96930864, 3.96930864,\n",
       "       3.9122389 , 3.9122389 , 4.05983728, 3.9122389 , 3.9122389 ,\n",
       "       3.9122389 , 3.9122389 , 3.96930864, 3.9122389 , 3.9122389 ,\n",
       "       3.9122389 , 3.9122389 , 3.9122389 , 3.9122389 , 3.96930864,\n",
       "       3.9122389 , 4.2327907 , 3.9122389 , 3.96930864, 4.2327907 ,\n",
       "       3.9122389 , 3.9122389 , 3.9122389 , 3.9122389 , 3.9122389 ,\n",
       "       3.9122389 , 3.9122389 , 3.9122389 , 3.96930864, 3.96930864,\n",
       "       3.96930864, 3.9122389 , 3.9122389 , 3.9122389 , 3.96930864,\n",
       "       4.05983728, 4.05983728, 3.96930864, 3.96930864, 3.96930864,\n",
       "       3.96930864, 3.96930864, 3.96930864, 3.9122389 , 3.9122389 ,\n",
       "       3.9122389 , 3.9122389 , 4.05983728, 3.9122389 , 3.96930864,\n",
       "       3.9122389 , 3.9122389 , 3.9122389 , 4.05983728, 3.96930864,\n",
       "       4.05983728, 3.9122389 , 3.96930864, 3.96930864, 3.9122389 ,\n",
       "       3.9122389 , 3.96930864, 3.9122389 , 3.96930864, 3.9122389 ,\n",
       "       3.9122389 , 3.96930864, 3.9122389 , 3.9122389 , 4.05983728,\n",
       "       3.96930864, 3.9122389 , 3.9122389 , 3.9122389 , 3.9122389 ,\n",
       "       3.9122389 , 3.9122389 , 3.96930864, 3.96930864, 4.05983728,\n",
       "       3.9122389 , 3.9122389 , 3.9122389 , 3.9122389 , 3.9122389 ,\n",
       "       3.9122389 , 3.9122389 , 3.9122389 , 3.9122389 , 3.9122389 ,\n",
       "       3.9122389 , 4.2327907 , 3.96930864, 3.9122389 , 3.9122389 ,\n",
       "       3.9122389 , 3.9122389 , 3.96930864, 3.9122389 , 3.9122389 ,\n",
       "       3.96930864, 3.96930864, 3.96930864, 3.9122389 , 3.9122389 ,\n",
       "       3.96930864, 3.9122389 , 3.9122389 , 3.9122389 , 4.05983728,\n",
       "       3.9122389 , 3.9122389 , 3.9122389 , 3.9122389 , 3.9122389 ,\n",
       "       3.9122389 , 3.9122389 , 3.9122389 , 3.9122389 , 3.9122389 ,\n",
       "       3.9122389 , 3.9122389 , 3.9122389 , 3.9122389 , 3.9122389 ,\n",
       "       3.9122389 , 3.9122389 , 3.9122389 , 3.96930864, 3.96930864,\n",
       "       3.96930864, 3.96930864, 3.9122389 , 4.2327907 , 3.96930864,\n",
       "       4.05983728, 3.9122389 , 3.96930864, 3.96930864, 3.9122389 ,\n",
       "       3.9122389 , 4.05983728, 3.96930864, 3.9122389 , 3.9122389 ,\n",
       "       3.96930864, 4.05983728, 3.9122389 , 3.9122389 , 3.96930864,\n",
       "       3.9122389 , 3.9122389 , 3.9122389 , 3.9122389 , 3.9122389 ,\n",
       "       3.96930864, 3.9122389 , 3.96930864, 3.9122389 , 3.96930864,\n",
       "       3.9122389 , 4.05983728, 3.96930864, 3.96930864, 3.9122389 ,\n",
       "       3.9122389 , 3.9122389 , 3.96930864, 3.96930864, 3.96930864,\n",
       "       3.9122389 , 3.96930864, 3.9122389 , 3.96930864, 3.9122389 ,\n",
       "       3.96930864, 3.9122389 , 3.9122389 , 3.96930864, 4.05983728,\n",
       "       3.9122389 , 3.9122389 , 3.96930864, 3.9122389 , 3.96930864,\n",
       "       3.96930864, 3.9122389 , 3.9122389 , 3.9122389 , 3.9122389 ,\n",
       "       3.9122389 , 3.9122389 , 3.9122389 , 3.9122389 , 3.9122389 ,\n",
       "       3.9122389 , 3.9122389 , 4.05983728, 3.96930864, 4.05983728,\n",
       "       3.96930864, 3.96930864, 3.9122389 , 4.05983728, 3.9122389 ,\n",
       "       3.96930864, 3.9122389 , 4.05983728, 2.065     , 3.9122389 ,\n",
       "       3.9122389 , 3.9122389 , 3.96930864, 3.9122389 , 2.065     ,\n",
       "       3.9122389 , 3.96930864, 3.9122389 , 3.9122389 , 3.9122389 ,\n",
       "       3.9122389 , 3.9122389 , 3.9122389 , 3.9122389 , 3.9122389 ,\n",
       "       3.9122389 , 3.9122389 , 3.9122389 , 3.9122389 , 3.9122389 ,\n",
       "       3.9122389 , 3.96930864, 3.9122389 , 3.9122389 , 3.9122389 ,\n",
       "       4.05983728, 3.9122389 , 3.9122389 , 3.96930864, 3.9122389 ,\n",
       "       4.2327907 , 3.9122389 , 3.9122389 , 4.05983728, 3.96930864,\n",
       "       3.96930864, 3.9122389 , 3.9122389 , 3.9122389 , 4.05983728,\n",
       "       3.9122389 , 3.96930864, 3.9122389 , 3.9122389 , 3.9122389 ,\n",
       "       4.05983728, 3.96930864, 3.9122389 , 3.96930864, 3.9122389 ,\n",
       "       3.9122389 , 3.9122389 , 3.9122389 , 3.96930864, 3.9122389 ,\n",
       "       3.96930864, 3.9122389 , 3.9122389 , 4.05983728, 3.9122389 ,\n",
       "       3.9122389 , 3.9122389 , 3.9122389 , 3.96930864, 3.9122389 ,\n",
       "       4.2327907 , 3.9122389 , 3.96930864, 3.96930864, 3.9122389 ,\n",
       "       3.9122389 , 3.9122389 , 4.05983728, 3.9122389 , 3.96930864,\n",
       "       3.9122389 , 3.9122389 , 3.9122389 , 3.9122389 , 3.9122389 ,\n",
       "       3.9122389 , 3.9122389 , 3.9122389 , 4.2327907 , 3.96930864,\n",
       "       3.9122389 , 3.9122389 , 3.9122389 , 3.9122389 , 3.96930864,\n",
       "       4.05983728, 3.9122389 , 3.9122389 , 3.9122389 , 3.265     ,\n",
       "       3.9122389 , 3.9122389 , 3.9122389 , 3.9122389 , 3.96930864,\n",
       "       3.9122389 , 3.9122389 , 3.9122389 , 3.9122389 , 3.9122389 ,\n",
       "       3.9122389 , 3.96930864, 3.96930864, 3.96930864, 3.9122389 ,\n",
       "       4.2327907 , 3.9122389 , 3.9122389 , 3.96930864, 3.9122389 ,\n",
       "       4.05983728, 3.9122389 , 3.9122389 , 3.9122389 , 3.9122389 ,\n",
       "       3.9122389 , 3.96930864, 3.9122389 , 4.05983728, 3.9122389 ,\n",
       "       3.9122389 , 3.9122389 , 3.9122389 , 3.96930864, 4.05983728,\n",
       "       3.9122389 , 3.9122389 , 3.96930864, 3.96930864, 3.9122389 ,\n",
       "       3.9122389 , 4.05983728, 3.9122389 , 3.9122389 , 4.05983728,\n",
       "       3.96930864, 3.96930864, 3.9122389 , 3.9122389 , 3.9122389 ,\n",
       "       3.9122389 , 3.9122389 , 3.9122389 , 3.96930864, 3.9122389 ,\n",
       "       3.9122389 , 3.9122389 , 4.05983728, 3.9122389 , 3.9122389 ,\n",
       "       3.9122389 , 3.96930864, 3.9122389 , 3.9122389 , 3.96930864,\n",
       "       3.9122389 , 3.9122389 , 3.96930864, 3.9122389 , 3.9122389 ,\n",
       "       3.9122389 , 3.9122389 , 3.9122389 , 3.9122389 , 3.9122389 ,\n",
       "       3.9122389 , 3.9122389 , 3.9122389 , 3.9122389 , 3.9122389 ,\n",
       "       3.9122389 , 3.96930864, 3.9122389 , 4.2327907 , 3.9122389 ,\n",
       "       3.9122389 , 3.9122389 , 3.96930864, 3.9122389 , 3.96930864,\n",
       "       4.2327907 , 3.9122389 , 3.9122389 , 3.96930864, 3.9122389 ,\n",
       "       4.05983728, 3.9122389 , 3.9122389 , 3.9122389 , 3.96930864,\n",
       "       3.9122389 , 3.96930864, 3.9122389 , 3.96930864, 4.05983728,\n",
       "       4.05983728, 3.96930864, 3.9122389 , 3.9122389 , 3.9122389 ,\n",
       "       3.96930864, 3.9122389 , 3.9122389 , 3.96930864, 4.05983728,\n",
       "       3.9122389 , 3.96930864, 3.96930864, 3.9122389 , 3.9122389 ,\n",
       "       3.9122389 , 3.96930864, 3.9122389 , 4.05983728, 3.9122389 ,\n",
       "       3.9122389 , 3.9122389 , 3.9122389 , 4.05983728, 4.05983728,\n",
       "       3.9122389 , 3.9122389 , 3.9122389 , 3.9122389 , 4.05983728,\n",
       "       3.9122389 , 2.846     , 3.96930864, 3.9122389 , 3.9122389 ,\n",
       "       3.96930864, 3.96930864, 3.9122389 , 3.96930864, 3.9122389 ,\n",
       "       3.9122389 , 4.05983728, 3.96930864, 3.9122389 , 3.96930864,\n",
       "       3.96930864, 3.9122389 , 3.96930864, 3.9122389 , 3.9122389 ,\n",
       "       3.9122389 , 3.96930864, 3.96930864, 3.96930864, 4.05983728,\n",
       "       3.9122389 , 3.9122389 , 3.9122389 , 3.9122389 , 3.96930864,\n",
       "       3.96930864, 3.9122389 , 3.9122389 , 3.9122389 , 3.9122389 ,\n",
       "       4.05983728, 3.9122389 , 3.96930864, 3.9122389 , 3.9122389 ,\n",
       "       3.9122389 , 4.05983728, 3.9122389 , 3.9122389 , 3.9122389 ,\n",
       "       3.9122389 , 3.96930864, 3.9122389 , 4.2327907 , 3.96930864,\n",
       "       3.96930864, 3.9122389 , 3.9122389 , 3.9122389 , 4.05983728,\n",
       "       3.96930864, 3.96930864, 3.96930864, 3.9122389 , 3.96930864,\n",
       "       3.9122389 , 3.9122389 , 3.265     , 3.96930864, 3.9122389 ,\n",
       "       3.9122389 , 3.96930864, 3.96930864, 3.9122389 , 3.9122389 ,\n",
       "       3.96930864, 3.96930864, 3.96930864, 3.9122389 , 3.9122389 ,\n",
       "       3.96930864, 3.9122389 , 3.9122389 , 3.96930864, 3.96930864,\n",
       "       4.05983728, 3.96930864, 3.9122389 , 3.96930864, 3.9122389 ,\n",
       "       3.9122389 , 3.9122389 , 3.96930864, 3.96930864, 4.05983728,\n",
       "       3.96930864, 3.96930864, 3.9122389 , 3.9122389 , 3.96930864,\n",
       "       3.96930864, 3.9122389 , 4.05983728, 3.96930864, 3.9122389 ,\n",
       "       3.9122389 , 3.9122389 , 3.9122389 , 3.9122389 , 3.9122389 ,\n",
       "       3.9122389 , 3.9122389 , 3.9122389 , 3.96930864, 3.9122389 ,\n",
       "       3.9122389 , 3.9122389 , 4.05983728, 3.9122389 , 3.9122389 ,\n",
       "       3.96930864, 3.9122389 , 3.9122389 , 4.2327907 , 3.9122389 ,\n",
       "       3.9122389 , 3.96930864, 3.96930864, 3.96930864, 3.9122389 ,\n",
       "       3.9122389 , 3.9122389 , 3.9122389 , 3.9122389 , 3.9122389 ,\n",
       "       3.9122389 , 3.9122389 , 4.05983728, 3.96930864, 3.9122389 ,\n",
       "       3.9122389 , 4.05983728, 3.9122389 , 3.9122389 , 3.96930864,\n",
       "       3.96930864, 3.9122389 , 3.96930864, 3.9122389 , 3.9122389 ,\n",
       "       4.05983728, 3.9122389 , 3.9122389 , 3.9122389 , 3.9122389 ,\n",
       "       3.96930864, 3.9122389 , 3.96930864, 3.9122389 , 3.9122389 ,\n",
       "       3.9122389 , 3.265     , 3.9122389 , 4.05983728, 3.9122389 ,\n",
       "       4.05983728, 3.9122389 , 3.9122389 , 3.9122389 , 3.9122389 ,\n",
       "       3.96930864, 3.9122389 , 3.9122389 , 3.96930864, 4.05983728,\n",
       "       3.9122389 , 3.9122389 , 3.9122389 , 3.9122389 , 3.9122389 ,\n",
       "       4.2327907 , 3.9122389 , 3.96930864, 3.96930864, 3.9122389 ,\n",
       "       3.9122389 , 3.9122389 , 3.9122389 , 3.9122389 , 3.9122389 ,\n",
       "       4.05983728, 3.9122389 , 3.9122389 , 3.9122389 , 3.9122389 ,\n",
       "       3.96930864, 3.9122389 , 3.9122389 , 3.9122389 , 3.96930864,\n",
       "       3.9122389 , 3.9122389 , 3.96930864, 3.9122389 , 3.9122389 ,\n",
       "       3.9122389 , 3.9122389 , 3.9122389 , 3.265     , 3.9122389 ,\n",
       "       3.96930864, 3.9122389 , 3.9122389 , 3.9122389 , 3.9122389 ,\n",
       "       3.9122389 , 3.9122389 , 3.9122389 , 3.9122389 , 3.96930864,\n",
       "       3.9122389 , 3.9122389 , 3.9122389 , 3.9122389 , 3.96930864,\n",
       "       3.96930864, 3.96930864, 3.96930864, 3.9122389 , 3.9122389 ,\n",
       "       4.05983728, 3.9122389 , 3.9122389 , 3.9122389 , 3.9122389 ,\n",
       "       3.96930864, 3.9122389 , 3.9122389 , 3.9122389 , 3.96930864,\n",
       "       3.9122389 , 3.9122389 , 3.9122389 , 3.9122389 , 3.9122389 ,\n",
       "       3.9122389 , 3.96930864, 4.05983728, 3.9122389 , 3.9122389 ])"
      ]
     },
     "execution_count": 17,
     "metadata": {},
     "output_type": "execute_result"
    }
   ],
   "source": [
    "predict_y_test_data"
   ]
  },
  {
   "cell_type": "code",
   "execution_count": 18,
   "metadata": {},
   "outputs": [
    {
     "data": {
      "text/plain": [
       "numpy.ndarray"
      ]
     },
     "execution_count": 18,
     "metadata": {},
     "output_type": "execute_result"
    }
   ],
   "source": [
    "type(predict_y_test_data)"
   ]
  },
  {
   "cell_type": "code",
   "execution_count": 19,
   "metadata": {},
   "outputs": [
    {
     "name": "stdout",
     "output_type": "stream",
     "text": [
      "     average_rating\n",
      "0          4.059837\n",
      "1          3.912239\n",
      "2          3.912239\n",
      "3          3.969309\n",
      "4          3.912239\n",
      "..              ...\n",
      "995        3.912239\n",
      "996        3.969309\n",
      "997        4.059837\n",
      "998        3.912239\n",
      "999        3.912239\n",
      "\n",
      "[1000 rows x 1 columns]\n"
     ]
    }
   ],
   "source": [
    "df = pd.DataFrame(predict_y_test_data,columns = [\"average_rating\"])\n",
    "print(df)"
   ]
  },
  {
   "cell_type": "code",
   "execution_count": 20,
   "metadata": {},
   "outputs": [],
   "source": [
    "# output a new csv file with average_rating\n",
    "df.to_csv(\"/Users/zhaozihao/Desktop/Test_result_DTR.csv\",index = False)"
   ]
  },
  {
   "cell_type": "code",
   "execution_count": null,
   "metadata": {},
   "outputs": [],
   "source": [
    "# For each training,we have different parameter setting in order to optimize the model\n",
    "# So the analysis process in the report is different from this result"
   ]
  }
 ],
 "metadata": {
  "kernelspec": {
   "display_name": "Python 3",
   "language": "python",
   "name": "python3"
  },
  "language_info": {
   "codemirror_mode": {
    "name": "ipython",
    "version": 3
   },
   "file_extension": ".py",
   "mimetype": "text/x-python",
   "name": "python",
   "nbconvert_exporter": "python",
   "pygments_lexer": "ipython3",
   "version": "3.7.7"
  }
 },
 "nbformat": 4,
 "nbformat_minor": 4
}
